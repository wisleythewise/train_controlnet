{
 "cells": [
  {
   "cell_type": "code",
   "execution_count": 2,
   "metadata": {},
   "outputs": [
    {
     "name": "stderr",
     "output_type": "stream",
     "text": [
      "A matching Triton is not available, some optimizations will not be enabled.\n",
      "Error caught was: No module named 'triton'\n",
      "Loading pipeline components...: 100%|██████████| 6/6 [00:00<00:00, 12.04it/s]\n"
     ]
    }
   ],
   "source": [
    "from diffusers import ControlNetModel, StableDiffusionControlNetPipeline\n",
    "import torch\n",
    "\n",
    "controlnet = ControlNetModel.from_pretrained(\"JaspervanLeuven/model_out\")\n",
    "pipeline = StableDiffusionControlNetPipeline.from_pretrained(\n",
    "\t\"stabilityai/stable-diffusion-2-1-base\", controlnet=controlnet\n",
    ")\n",
    "\n",
    "\n"
   ]
  },
  {
   "cell_type": "code",
   "execution_count": 3,
   "metadata": {},
   "outputs": [
    {
     "name": "stdout",
     "output_type": "stream",
     "text": [
      "Using device: cuda\n"
     ]
    },
    {
     "name": "stderr",
     "output_type": "stream",
     "text": [
      "  0%|          | 0/50 [00:00<?, ?it/s]"
     ]
    }
   ],
   "source": [
    "from diffusers.utils import load_image, make_image_grid\n",
    "from PIL import Image\n",
    "import cv2\n",
    "import numpy as np\n",
    "from accelerate import Accelerator\n",
    "accelerator = Accelerator()\n",
    "\n",
    "torch.cuda.empty_cache()\n",
    "device = accelerator.device\n",
    "\n",
    "print(f\"Using device: {device}\")\n",
    "# move the pipeline to the GPU\n",
    "pipeline = pipeline.to(\"cuda\")\n",
    "\n",
    "canny_image = cv2.imread(\"D:/nulimages_data/train2/groundTruth/n004-2018-01-03-16-11-21+0800__CAM_FRONT__1514967427247656.png\")\n",
    "pil_canny_image = Image.fromarray(canny_image)\n",
    "\n",
    "\n",
    "from torchvision import transforms\n",
    "\n",
    "# Convert PIL image to tensor\n",
    "transform = transforms.ToTensor()\n",
    "tensor_canny_image = transform(pil_canny_image).unsqueeze(0)  # Add batch dimension\n",
    "\n",
    "# Move the tensor to the GPU\n",
    "tensor_canny_image = tensor_canny_image.to(device)\n",
    "\n",
    "\n",
    "# Show image\n",
    "pil_canny_image.show()\n",
    "output = pipeline(\n",
    "    \"Turn into a Hyper realistic intersection in Singapore with two cars, captured through a dashcam\", image=pil_canny_image, guidance_scale=9.5\n",
    ").images[0]\n",
    "\n",
    "\n",
    "\n",
    "\n",
    "make_image_grid([canny_image, canny_image, output], rows=1, cols=3)"
   ]
  }
 ],
 "metadata": {
  "kernelspec": {
   "display_name": "diffusers",
   "language": "python",
   "name": "python3"
  },
  "language_info": {
   "codemirror_mode": {
    "name": "ipython",
    "version": 3
   },
   "file_extension": ".py",
   "mimetype": "text/x-python",
   "name": "python",
   "nbconvert_exporter": "python",
   "pygments_lexer": "ipython3",
   "version": "3.8.18"
  }
 },
 "nbformat": 4,
 "nbformat_minor": 2
}
