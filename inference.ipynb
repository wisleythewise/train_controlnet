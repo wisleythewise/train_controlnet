{
 "cells": [
  {
   "cell_type": "code",
   "execution_count": 1,
   "metadata": {},
   "outputs": [
    {
     "name": "stderr",
     "output_type": "stream",
     "text": [
      "/home/wisley/miniconda3/envs/training_controlnet/lib/python3.9/site-packages/tqdm/auto.py:21: TqdmWarning: IProgress not found. Please update jupyter and ipywidgets. See https://ipywidgets.readthedocs.io/en/stable/user_install.html\n",
      "  from .autonotebook import tqdm as notebook_tqdm\n"
     ]
    },
    {
     "name": "stdout",
     "output_type": "stream",
     "text": [
      "Using device: cuda\n"
     ]
    },
    {
     "name": "stderr",
     "output_type": "stream",
     "text": [
      "Loading pipeline components...: 100%|██████████| 7/7 [00:00<00:00, 12.27it/s]\n",
      "100%|██████████| 50/50 [00:12<00:00,  4.13it/s]\n"
     ]
    }
   ],
   "source": [
    "from diffusers import ControlNetModel, StableDiffusionControlNetPipeline\n",
    "import torch\n",
    "import matplotlib.pyplot as plt\n",
    "from torchvision import transforms\n",
    "\n",
    "torch.cuda.empty_cache()\n",
    "device = torch.device(\"cuda\" if torch.cuda.is_available() else \"cpu\")\n",
    "print(f\"Using device: {device}\")\n",
    "\n",
    "# Intialize the controlnet model\n",
    "controlnet = ControlNetModel.from_pretrained(\"JaspervanLeuven/controlnet2.5k\")\n",
    "pipeline = StableDiffusionControlNetPipeline.from_pretrained(\n",
    "\t\"runwayml/stable-diffusion-v1-5\", controlnet=controlnet\n",
    ").to(device = device, dtpyes = torch.float16)\n",
    "\n",
    "\n",
    "prompt = \" In this driving scene the following objects can be observed: 8 times a pedestrian which is moving, 13 times a car which is parked, 2 times a pushable_pullable\"\n",
    "controle_image= \"/home/wisley/train_controlnet/validation.png\"\n",
    "\n",
    "#convert image to pil\n",
    "from PIL import Image\n",
    "controle_image = Image.open(controle_image)\n",
    "# make sure to resize the image to 512x512\n",
    "factor = 900 / 512\n",
    "transform = transforms.Compose([\n",
    "    transforms.Resize((int(900/factor) , int(1600/factor))),  # Resize the image to 512x512 pixels\n",
    "    transforms.CenterCrop(512),\n",
    "    transforms.ToTensor()           # Convert the image to a tensor\n",
    "])\n",
    "\n",
    "# Apply the transformation\n",
    "transformed_tensor = transform(controle_image)\n",
    "\n",
    "generated_image = pipeline( prompt,  transformed_tensor[:3,:,:].unsqueeze(0),  guidance_scale=9.5, negative_prompt=\"simulation, blurry\").images[0]\n",
    "generated_image.save(\"output_image_5k.png\")\n",
    "\n"
   ]
  }
 ],
 "metadata": {
  "kernelspec": {
   "display_name": "diffusers",
   "language": "python",
   "name": "python3"
  },
  "language_info": {
   "codemirror_mode": {
    "name": "ipython",
    "version": 3
   },
   "file_extension": ".py",
   "mimetype": "text/x-python",
   "name": "python",
   "nbconvert_exporter": "python",
   "pygments_lexer": "ipython3",
   "version": "3.9.19"
  }
 },
 "nbformat": 4,
 "nbformat_minor": 2
}
