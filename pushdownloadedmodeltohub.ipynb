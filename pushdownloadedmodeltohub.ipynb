{
 "cells": [
  {
   "cell_type": "code",
   "execution_count": 11,
   "metadata": {},
   "outputs": [
    {
     "name": "stderr",
     "output_type": "stream",
     "text": [
      "diffusion_pytorch_model.safetensors: 100%|██████████| 1.47G/1.47G [00:47<00:00, 31.1MB/s]  \n"
     ]
    },
    {
     "data": {
      "text/plain": [
       "CommitInfo(commit_url='https://huggingface.co/JaspervanLeuven/aldm_controlnet/commit/02410be2d0c527f851867bdeef3b5022fd4e4e60', commit_message='Upload model', commit_description='', oid='02410be2d0c527f851867bdeef3b5022fd4e4e60', pr_url=None, pr_revision=None, pr_num=None)"
      ]
     },
     "execution_count": 11,
     "metadata": {},
     "output_type": "execute_result"
    }
   ],
   "source": [
    "from diffusers import ControlNetModel, UNet2DModel\n",
    "import torch\n",
    "\n",
    "controlnet = ControlNetModel()\n",
    "checkpoint = torch.load(\"D:\\\\checkpoints_ALDM\\\\cityscapes_step9.ckpt\",  map_location=torch.device('cpu'))\n",
    "\n",
    "# Filter out the keys specific to the ControlNetModel\n",
    "# This involves identifying keys that match the pattern or naming convention of the ControlNetModel parameters\n",
    "controlnet_keys = {k: v for k, v in checkpoint.items() if k.startswith('control_model')}\n",
    "\n",
    "# Load the filtered weights\n",
    "# You might need to adjust the keys in 'controlnet_keys' if they don't match exactly\n",
    "controlnet.load_state_dict(controlnet_keys, strict=False)\n",
    "\n",
    "\n",
    "controlnet.push_to_hub(\"JaspervanLeuven/aldm_controlnet\")"
   ]
  }
 ],
 "metadata": {
  "kernelspec": {
   "display_name": "diffusers",
   "language": "python",
   "name": "python3"
  },
  "language_info": {
   "codemirror_mode": {
    "name": "ipython",
    "version": 3
   },
   "file_extension": ".py",
   "mimetype": "text/x-python",
   "name": "python",
   "nbconvert_exporter": "python",
   "pygments_lexer": "ipython3",
   "version": "3.8.18"
  }
 },
 "nbformat": 4,
 "nbformat_minor": 2
}
